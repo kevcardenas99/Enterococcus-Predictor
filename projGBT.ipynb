{
 "cells": [
  {
   "attachments": {},
   "cell_type": "markdown",
   "metadata": {},
   "source": [
    "### Libraries for Gradient Boosting Tree"
   ]
  },
  {
   "cell_type": "code",
   "execution_count": 55,
   "metadata": {},
   "outputs": [],
   "source": [
    "import numpy as np\n",
    "import matplotlib.pyplot as plt\n",
    "import seaborn as sns\n",
    "import pandas as pd\n",
    "from sklearn.model_selection import train_test_split\n",
    "from sklearn.metrics import *\n",
    "from sklearn.ensemble import GradientBoostingRegressor\n",
    "\n",
    "from sklearn.model_selection import GridSearchCV\n",
    "from scipy.stats import *"
   ]
  },
  {
   "cell_type": "markdown",
   "metadata": {},
   "source": [
    "### Read in the csv file containing the data of interest and show the head"
   ]
  },
  {
   "cell_type": "code",
   "execution_count": 22,
   "metadata": {},
   "outputs": [
    {
     "name": "stdout",
     "output_type": "stream",
     "text": [
      "(3560, 9)\n"
     ]
    },
    {
     "data": {
      "text/html": [
       "<div>\n",
       "<style scoped>\n",
       "    .dataframe tbody tr th:only-of-type {\n",
       "        vertical-align: middle;\n",
       "    }\n",
       "\n",
       "    .dataframe tbody tr th {\n",
       "        vertical-align: top;\n",
       "    }\n",
       "\n",
       "    .dataframe thead th {\n",
       "        text-align: right;\n",
       "    }\n",
       "</style>\n",
       "<table border=\"1\" class=\"dataframe\">\n",
       "  <thead>\n",
       "    <tr style=\"text-align: right;\">\n",
       "      <th></th>\n",
       "      <th>Sample Date</th>\n",
       "      <th>Enterococci Results</th>\n",
       "      <th>Year Population</th>\n",
       "      <th>Day Before Precipitation</th>\n",
       "      <th>Day of Precipitation</th>\n",
       "      <th>Water Temperature</th>\n",
       "      <th>Sum Precip</th>\n",
       "      <th>Month</th>\n",
       "      <th>Year</th>\n",
       "    </tr>\n",
       "  </thead>\n",
       "  <tbody>\n",
       "    <tr>\n",
       "      <th>0</th>\n",
       "      <td>6/1/2005</td>\n",
       "      <td>4.0</td>\n",
       "      <td>7939571</td>\n",
       "      <td>0.0</td>\n",
       "      <td>0.0</td>\n",
       "      <td>15.23</td>\n",
       "      <td>0.0</td>\n",
       "      <td>6</td>\n",
       "      <td>2005</td>\n",
       "    </tr>\n",
       "    <tr>\n",
       "      <th>1</th>\n",
       "      <td>6/1/2005</td>\n",
       "      <td>4.0</td>\n",
       "      <td>7939571</td>\n",
       "      <td>0.0</td>\n",
       "      <td>0.0</td>\n",
       "      <td>15.23</td>\n",
       "      <td>0.0</td>\n",
       "      <td>6</td>\n",
       "      <td>2005</td>\n",
       "    </tr>\n",
       "    <tr>\n",
       "      <th>2</th>\n",
       "      <td>6/1/2005</td>\n",
       "      <td>4.0</td>\n",
       "      <td>7939571</td>\n",
       "      <td>0.0</td>\n",
       "      <td>0.0</td>\n",
       "      <td>15.23</td>\n",
       "      <td>0.0</td>\n",
       "      <td>6</td>\n",
       "      <td>2005</td>\n",
       "    </tr>\n",
       "    <tr>\n",
       "      <th>3</th>\n",
       "      <td>6/1/2005</td>\n",
       "      <td>4.0</td>\n",
       "      <td>7939571</td>\n",
       "      <td>0.0</td>\n",
       "      <td>0.0</td>\n",
       "      <td>15.23</td>\n",
       "      <td>0.0</td>\n",
       "      <td>6</td>\n",
       "      <td>2005</td>\n",
       "    </tr>\n",
       "    <tr>\n",
       "      <th>4</th>\n",
       "      <td>6/8/2005</td>\n",
       "      <td>4.0</td>\n",
       "      <td>7939571</td>\n",
       "      <td>0.0</td>\n",
       "      <td>0.0</td>\n",
       "      <td>17.89</td>\n",
       "      <td>0.0</td>\n",
       "      <td>6</td>\n",
       "      <td>2005</td>\n",
       "    </tr>\n",
       "  </tbody>\n",
       "</table>\n",
       "</div>"
      ],
      "text/plain": [
       "  Sample Date  Enterococci Results  Year Population  Day Before Precipitation  \\\n",
       "0    6/1/2005                  4.0          7939571                       0.0   \n",
       "1    6/1/2005                  4.0          7939571                       0.0   \n",
       "2    6/1/2005                  4.0          7939571                       0.0   \n",
       "3    6/1/2005                  4.0          7939571                       0.0   \n",
       "4    6/8/2005                  4.0          7939571                       0.0   \n",
       "\n",
       "   Day of Precipitation  Water Temperature  Sum Precip  Month  Year  \n",
       "0                   0.0              15.23         0.0      6  2005  \n",
       "1                   0.0              15.23         0.0      6  2005  \n",
       "2                   0.0              15.23         0.0      6  2005  \n",
       "3                   0.0              15.23         0.0      6  2005  \n",
       "4                   0.0              17.89         0.0      6  2005  "
      ]
     },
     "execution_count": 22,
     "metadata": {},
     "output_type": "execute_result"
    }
   ],
   "source": [
    "enteroData = pd.read_csv('enteroData.csv')\n",
    "print(enteroData.shape)\n",
    "enteroData.head()"
   ]
  },
  {
   "attachments": {},
   "cell_type": "markdown",
   "metadata": {},
   "source": [
    "### Data Reduction for CSO Rainfall Data"
   ]
  },
  {
   "attachments": {},
   "cell_type": "markdown",
   "metadata": {},
   "source": [
    "CSOs typically occur when there is rain intensity of 0.1 in/hr, therefore under the assumption that the average storm lasts 30 minutes, 0.05 inches of rainfall during is possibly associated with this intensity and so will be used as the basis for reducing our data:"
   ]
  },
  {
   "cell_type": "code",
   "execution_count": 23,
   "metadata": {},
   "outputs": [
    {
     "name": "stdout",
     "output_type": "stream",
     "text": [
      "(1408, 9)\n"
     ]
    },
    {
     "data": {
      "text/html": [
       "<div>\n",
       "<style scoped>\n",
       "    .dataframe tbody tr th:only-of-type {\n",
       "        vertical-align: middle;\n",
       "    }\n",
       "\n",
       "    .dataframe tbody tr th {\n",
       "        vertical-align: top;\n",
       "    }\n",
       "\n",
       "    .dataframe thead th {\n",
       "        text-align: right;\n",
       "    }\n",
       "</style>\n",
       "<table border=\"1\" class=\"dataframe\">\n",
       "  <thead>\n",
       "    <tr style=\"text-align: right;\">\n",
       "      <th></th>\n",
       "      <th>Sample Date</th>\n",
       "      <th>Enterococci Results</th>\n",
       "      <th>Year Population</th>\n",
       "      <th>Day Before Precipitation</th>\n",
       "      <th>Day of Precipitation</th>\n",
       "      <th>Water Temperature</th>\n",
       "      <th>Sum Precip</th>\n",
       "      <th>Month</th>\n",
       "      <th>Year</th>\n",
       "    </tr>\n",
       "  </thead>\n",
       "  <tbody>\n",
       "    <tr>\n",
       "      <th>54</th>\n",
       "      <td>5/30/2006</td>\n",
       "      <td>4.0</td>\n",
       "      <td>7904335</td>\n",
       "      <td>0.20</td>\n",
       "      <td>0.00</td>\n",
       "      <td>15.92</td>\n",
       "      <td>0.20</td>\n",
       "      <td>5</td>\n",
       "      <td>2006</td>\n",
       "    </tr>\n",
       "    <tr>\n",
       "      <th>55</th>\n",
       "      <td>5/30/2006</td>\n",
       "      <td>4.0</td>\n",
       "      <td>7904335</td>\n",
       "      <td>0.20</td>\n",
       "      <td>0.00</td>\n",
       "      <td>15.92</td>\n",
       "      <td>0.20</td>\n",
       "      <td>5</td>\n",
       "      <td>2006</td>\n",
       "    </tr>\n",
       "    <tr>\n",
       "      <th>56</th>\n",
       "      <td>5/30/2006</td>\n",
       "      <td>4.0</td>\n",
       "      <td>7904335</td>\n",
       "      <td>0.20</td>\n",
       "      <td>0.00</td>\n",
       "      <td>15.92</td>\n",
       "      <td>0.20</td>\n",
       "      <td>5</td>\n",
       "      <td>2006</td>\n",
       "    </tr>\n",
       "    <tr>\n",
       "      <th>69</th>\n",
       "      <td>6/27/2006</td>\n",
       "      <td>4.0</td>\n",
       "      <td>7904335</td>\n",
       "      <td>0.06</td>\n",
       "      <td>0.05</td>\n",
       "      <td>19.44</td>\n",
       "      <td>0.11</td>\n",
       "      <td>6</td>\n",
       "      <td>2006</td>\n",
       "    </tr>\n",
       "    <tr>\n",
       "      <th>70</th>\n",
       "      <td>6/27/2006</td>\n",
       "      <td>4.0</td>\n",
       "      <td>7904335</td>\n",
       "      <td>0.06</td>\n",
       "      <td>0.05</td>\n",
       "      <td>19.44</td>\n",
       "      <td>0.11</td>\n",
       "      <td>6</td>\n",
       "      <td>2006</td>\n",
       "    </tr>\n",
       "  </tbody>\n",
       "</table>\n",
       "</div>"
      ],
      "text/plain": [
       "   Sample Date  Enterococci Results  Year Population  \\\n",
       "54   5/30/2006                  4.0          7904335   \n",
       "55   5/30/2006                  4.0          7904335   \n",
       "56   5/30/2006                  4.0          7904335   \n",
       "69   6/27/2006                  4.0          7904335   \n",
       "70   6/27/2006                  4.0          7904335   \n",
       "\n",
       "    Day Before Precipitation  Day of Precipitation  Water Temperature  \\\n",
       "54                      0.20                  0.00              15.92   \n",
       "55                      0.20                  0.00              15.92   \n",
       "56                      0.20                  0.00              15.92   \n",
       "69                      0.06                  0.05              19.44   \n",
       "70                      0.06                  0.05              19.44   \n",
       "\n",
       "    Sum Precip  Month  Year  \n",
       "54        0.20      5  2006  \n",
       "55        0.20      5  2006  \n",
       "56        0.20      5  2006  \n",
       "69        0.11      6  2006  \n",
       "70        0.11      6  2006  "
      ]
     },
     "execution_count": 23,
     "metadata": {},
     "output_type": "execute_result"
    }
   ],
   "source": [
    "wetData = enteroData[(enteroData['Day Before Precipitation'] > 0.05) | (enteroData['Day of Precipitation'] > 0.05)]\n",
    "\n",
    "print(wetData.shape)\n",
    "wetData.head()"
   ]
  },
  {
   "attachments": {},
   "cell_type": "markdown",
   "metadata": {},
   "source": [
    "### Looking at average values to see how the correlations differ"
   ]
  },
  {
   "cell_type": "code",
   "execution_count": 24,
   "metadata": {},
   "outputs": [
    {
     "name": "stdout",
     "output_type": "stream",
     "text": [
      "(325, 9)\n"
     ]
    },
    {
     "data": {
      "text/html": [
       "<div>\n",
       "<style scoped>\n",
       "    .dataframe tbody tr th:only-of-type {\n",
       "        vertical-align: middle;\n",
       "    }\n",
       "\n",
       "    .dataframe tbody tr th {\n",
       "        vertical-align: top;\n",
       "    }\n",
       "\n",
       "    .dataframe thead th {\n",
       "        text-align: right;\n",
       "    }\n",
       "</style>\n",
       "<table border=\"1\" class=\"dataframe\">\n",
       "  <thead>\n",
       "    <tr style=\"text-align: right;\">\n",
       "      <th></th>\n",
       "      <th>Sample Date</th>\n",
       "      <th>Enterococci Results</th>\n",
       "      <th>Year Population</th>\n",
       "      <th>Day Before Precipitation</th>\n",
       "      <th>Day of Precipitation</th>\n",
       "      <th>Water Temperature</th>\n",
       "      <th>Sum Precip</th>\n",
       "      <th>Month</th>\n",
       "      <th>Year</th>\n",
       "    </tr>\n",
       "  </thead>\n",
       "  <tbody>\n",
       "    <tr>\n",
       "      <th>0</th>\n",
       "      <td>6/1/2005</td>\n",
       "      <td>9.846154</td>\n",
       "      <td>7939571</td>\n",
       "      <td>0.0</td>\n",
       "      <td>0.00</td>\n",
       "      <td>15.23</td>\n",
       "      <td>0.00</td>\n",
       "      <td>6</td>\n",
       "      <td>2005</td>\n",
       "    </tr>\n",
       "    <tr>\n",
       "      <th>1</th>\n",
       "      <td>6/8/2005</td>\n",
       "      <td>24.923077</td>\n",
       "      <td>7939571</td>\n",
       "      <td>0.0</td>\n",
       "      <td>0.00</td>\n",
       "      <td>17.89</td>\n",
       "      <td>0.00</td>\n",
       "      <td>6</td>\n",
       "      <td>2005</td>\n",
       "    </tr>\n",
       "    <tr>\n",
       "      <th>2</th>\n",
       "      <td>6/14/2005</td>\n",
       "      <td>4.000000</td>\n",
       "      <td>7939571</td>\n",
       "      <td>0.0</td>\n",
       "      <td>0.00</td>\n",
       "      <td>19.17</td>\n",
       "      <td>0.00</td>\n",
       "      <td>6</td>\n",
       "      <td>2005</td>\n",
       "    </tr>\n",
       "    <tr>\n",
       "      <th>3</th>\n",
       "      <td>6/20/2005</td>\n",
       "      <td>33.200000</td>\n",
       "      <td>7939571</td>\n",
       "      <td>0.0</td>\n",
       "      <td>0.00</td>\n",
       "      <td>18.56</td>\n",
       "      <td>0.00</td>\n",
       "      <td>6</td>\n",
       "      <td>2005</td>\n",
       "    </tr>\n",
       "    <tr>\n",
       "      <th>4</th>\n",
       "      <td>7/5/2005</td>\n",
       "      <td>4.800000</td>\n",
       "      <td>7939571</td>\n",
       "      <td>0.0</td>\n",
       "      <td>0.04</td>\n",
       "      <td>21.23</td>\n",
       "      <td>0.04</td>\n",
       "      <td>7</td>\n",
       "      <td>2005</td>\n",
       "    </tr>\n",
       "  </tbody>\n",
       "</table>\n",
       "</div>"
      ],
      "text/plain": [
       "  Sample Date  Enterococci Results  Year Population  Day Before Precipitation  \\\n",
       "0    6/1/2005             9.846154          7939571                       0.0   \n",
       "1    6/8/2005            24.923077          7939571                       0.0   \n",
       "2   6/14/2005             4.000000          7939571                       0.0   \n",
       "3   6/20/2005            33.200000          7939571                       0.0   \n",
       "4    7/5/2005             4.800000          7939571                       0.0   \n",
       "\n",
       "   Day of Precipitation  Water Temperature  Sum Precip  Month  Year  \n",
       "0                  0.00              15.23        0.00      6  2005  \n",
       "1                  0.00              17.89        0.00      6  2005  \n",
       "2                  0.00              19.17        0.00      6  2005  \n",
       "3                  0.00              18.56        0.00      6  2005  \n",
       "4                  0.04              21.23        0.04      7  2005  "
      ]
     },
     "execution_count": 24,
     "metadata": {},
     "output_type": "execute_result"
    }
   ],
   "source": [
    "enteroAvgData = pd.read_csv('enteroDataAvg.csv')\n",
    "\n",
    "print(enteroAvgData.shape)\n",
    "enteroAvgData.head()"
   ]
  },
  {
   "cell_type": "code",
   "execution_count": 25,
   "metadata": {},
   "outputs": [
    {
     "name": "stdout",
     "output_type": "stream",
     "text": [
      "(114, 9)\n"
     ]
    },
    {
     "data": {
      "text/html": [
       "<div>\n",
       "<style scoped>\n",
       "    .dataframe tbody tr th:only-of-type {\n",
       "        vertical-align: middle;\n",
       "    }\n",
       "\n",
       "    .dataframe tbody tr th {\n",
       "        vertical-align: top;\n",
       "    }\n",
       "\n",
       "    .dataframe thead th {\n",
       "        text-align: right;\n",
       "    }\n",
       "</style>\n",
       "<table border=\"1\" class=\"dataframe\">\n",
       "  <thead>\n",
       "    <tr style=\"text-align: right;\">\n",
       "      <th></th>\n",
       "      <th>Sample Date</th>\n",
       "      <th>Enterococci Results</th>\n",
       "      <th>Year Population</th>\n",
       "      <th>Day Before Precipitation</th>\n",
       "      <th>Day of Precipitation</th>\n",
       "      <th>Water Temperature</th>\n",
       "      <th>Sum Precip</th>\n",
       "      <th>Month</th>\n",
       "      <th>Year</th>\n",
       "    </tr>\n",
       "  </thead>\n",
       "  <tbody>\n",
       "    <tr>\n",
       "      <th>17</th>\n",
       "      <td>5/30/2006</td>\n",
       "      <td>52.000000</td>\n",
       "      <td>7904335</td>\n",
       "      <td>0.20</td>\n",
       "      <td>0.00</td>\n",
       "      <td>15.92</td>\n",
       "      <td>0.20</td>\n",
       "      <td>5</td>\n",
       "      <td>2006</td>\n",
       "    </tr>\n",
       "    <tr>\n",
       "      <th>20</th>\n",
       "      <td>6/27/2006</td>\n",
       "      <td>8.000000</td>\n",
       "      <td>7904335</td>\n",
       "      <td>0.06</td>\n",
       "      <td>0.05</td>\n",
       "      <td>19.44</td>\n",
       "      <td>0.11</td>\n",
       "      <td>6</td>\n",
       "      <td>2006</td>\n",
       "    </tr>\n",
       "    <tr>\n",
       "      <th>21</th>\n",
       "      <td>7/5/2006</td>\n",
       "      <td>16.615385</td>\n",
       "      <td>7904335</td>\n",
       "      <td>0.00</td>\n",
       "      <td>1.06</td>\n",
       "      <td>19.92</td>\n",
       "      <td>1.06</td>\n",
       "      <td>7</td>\n",
       "      <td>2006</td>\n",
       "    </tr>\n",
       "    <tr>\n",
       "      <th>23</th>\n",
       "      <td>7/18/2006</td>\n",
       "      <td>23.714286</td>\n",
       "      <td>7904335</td>\n",
       "      <td>0.00</td>\n",
       "      <td>0.44</td>\n",
       "      <td>22.11</td>\n",
       "      <td>0.44</td>\n",
       "      <td>7</td>\n",
       "      <td>2006</td>\n",
       "    </tr>\n",
       "    <tr>\n",
       "      <th>39</th>\n",
       "      <td>6/19/2007</td>\n",
       "      <td>6.857143</td>\n",
       "      <td>7908735</td>\n",
       "      <td>0.00</td>\n",
       "      <td>0.06</td>\n",
       "      <td>20.72</td>\n",
       "      <td>0.06</td>\n",
       "      <td>6</td>\n",
       "      <td>2007</td>\n",
       "    </tr>\n",
       "  </tbody>\n",
       "</table>\n",
       "</div>"
      ],
      "text/plain": [
       "   Sample Date  Enterococci Results  Year Population  \\\n",
       "17   5/30/2006            52.000000          7904335   \n",
       "20   6/27/2006             8.000000          7904335   \n",
       "21    7/5/2006            16.615385          7904335   \n",
       "23   7/18/2006            23.714286          7904335   \n",
       "39   6/19/2007             6.857143          7908735   \n",
       "\n",
       "    Day Before Precipitation  Day of Precipitation  Water Temperature  \\\n",
       "17                      0.20                  0.00              15.92   \n",
       "20                      0.06                  0.05              19.44   \n",
       "21                      0.00                  1.06              19.92   \n",
       "23                      0.00                  0.44              22.11   \n",
       "39                      0.00                  0.06              20.72   \n",
       "\n",
       "    Sum Precip  Month  Year  \n",
       "17        0.20      5  2006  \n",
       "20        0.11      6  2006  \n",
       "21        1.06      7  2006  \n",
       "23        0.44      7  2006  \n",
       "39        0.06      6  2007  "
      ]
     },
     "execution_count": 25,
     "metadata": {},
     "output_type": "execute_result"
    }
   ],
   "source": [
    "wetAvgData = enteroAvgData[(enteroAvgData['Day Before Precipitation'] > 0.05) | (enteroAvgData['Day of Precipitation'] > 0.05)]\n",
    "\n",
    "print(wetAvgData.shape)\n",
    "wetAvgData.head()"
   ]
  },
  {
   "cell_type": "markdown",
   "metadata": {},
   "source": [
    "Defining Dependent Variable"
   ]
  },
  {
   "cell_type": "code",
   "execution_count": 26,
   "metadata": {},
   "outputs": [
    {
     "name": "stdout",
     "output_type": "stream",
     "text": [
      "(3560, 1)\n"
     ]
    },
    {
     "data": {
      "text/html": [
       "<div>\n",
       "<style scoped>\n",
       "    .dataframe tbody tr th:only-of-type {\n",
       "        vertical-align: middle;\n",
       "    }\n",
       "\n",
       "    .dataframe tbody tr th {\n",
       "        vertical-align: top;\n",
       "    }\n",
       "\n",
       "    .dataframe thead th {\n",
       "        text-align: right;\n",
       "    }\n",
       "</style>\n",
       "<table border=\"1\" class=\"dataframe\">\n",
       "  <thead>\n",
       "    <tr style=\"text-align: right;\">\n",
       "      <th></th>\n",
       "      <th>Enterococci Results</th>\n",
       "    </tr>\n",
       "  </thead>\n",
       "  <tbody>\n",
       "    <tr>\n",
       "      <th>0</th>\n",
       "      <td>4.0</td>\n",
       "    </tr>\n",
       "    <tr>\n",
       "      <th>1</th>\n",
       "      <td>4.0</td>\n",
       "    </tr>\n",
       "    <tr>\n",
       "      <th>2</th>\n",
       "      <td>4.0</td>\n",
       "    </tr>\n",
       "    <tr>\n",
       "      <th>3</th>\n",
       "      <td>4.0</td>\n",
       "    </tr>\n",
       "    <tr>\n",
       "      <th>4</th>\n",
       "      <td>4.0</td>\n",
       "    </tr>\n",
       "  </tbody>\n",
       "</table>\n",
       "</div>"
      ],
      "text/plain": [
       "   Enterococci Results\n",
       "0                  4.0\n",
       "1                  4.0\n",
       "2                  4.0\n",
       "3                  4.0\n",
       "4                  4.0"
      ]
     },
     "execution_count": 26,
     "metadata": {},
     "output_type": "execute_result"
    }
   ],
   "source": [
    "# The dependent variable, also called the label, is what we are trying to predict\n",
    "# The labels DataFrame is first initiated like this for the visual representation\n",
    "enteroLabels = pd.DataFrame({\"Enterococci Results\": enteroData['Enterococci Results']})\n",
    "print(enteroLabels.shape)\n",
    "enteroLabels.head()"
   ]
  },
  {
   "cell_type": "code",
   "execution_count": 27,
   "metadata": {},
   "outputs": [
    {
     "name": "stdout",
     "output_type": "stream",
     "text": [
      "(1408, 1)\n"
     ]
    },
    {
     "data": {
      "text/html": [
       "<div>\n",
       "<style scoped>\n",
       "    .dataframe tbody tr th:only-of-type {\n",
       "        vertical-align: middle;\n",
       "    }\n",
       "\n",
       "    .dataframe tbody tr th {\n",
       "        vertical-align: top;\n",
       "    }\n",
       "\n",
       "    .dataframe thead th {\n",
       "        text-align: right;\n",
       "    }\n",
       "</style>\n",
       "<table border=\"1\" class=\"dataframe\">\n",
       "  <thead>\n",
       "    <tr style=\"text-align: right;\">\n",
       "      <th></th>\n",
       "      <th>Enterococci Results</th>\n",
       "    </tr>\n",
       "  </thead>\n",
       "  <tbody>\n",
       "    <tr>\n",
       "      <th>54</th>\n",
       "      <td>4.0</td>\n",
       "    </tr>\n",
       "    <tr>\n",
       "      <th>55</th>\n",
       "      <td>4.0</td>\n",
       "    </tr>\n",
       "    <tr>\n",
       "      <th>56</th>\n",
       "      <td>4.0</td>\n",
       "    </tr>\n",
       "    <tr>\n",
       "      <th>69</th>\n",
       "      <td>4.0</td>\n",
       "    </tr>\n",
       "    <tr>\n",
       "      <th>70</th>\n",
       "      <td>4.0</td>\n",
       "    </tr>\n",
       "  </tbody>\n",
       "</table>\n",
       "</div>"
      ],
      "text/plain": [
       "    Enterococci Results\n",
       "54                  4.0\n",
       "55                  4.0\n",
       "56                  4.0\n",
       "69                  4.0\n",
       "70                  4.0"
      ]
     },
     "execution_count": 27,
     "metadata": {},
     "output_type": "execute_result"
    }
   ],
   "source": [
    "wetLabels = pd.DataFrame({\"Enterococci Results\": wetData['Enterococci Results']})\n",
    "print(wetLabels.shape)\n",
    "wetLabels.head()"
   ]
  },
  {
   "cell_type": "code",
   "execution_count": 28,
   "metadata": {},
   "outputs": [
    {
     "name": "stdout",
     "output_type": "stream",
     "text": [
      "(325, 1)\n"
     ]
    },
    {
     "data": {
      "text/html": [
       "<div>\n",
       "<style scoped>\n",
       "    .dataframe tbody tr th:only-of-type {\n",
       "        vertical-align: middle;\n",
       "    }\n",
       "\n",
       "    .dataframe tbody tr th {\n",
       "        vertical-align: top;\n",
       "    }\n",
       "\n",
       "    .dataframe thead th {\n",
       "        text-align: right;\n",
       "    }\n",
       "</style>\n",
       "<table border=\"1\" class=\"dataframe\">\n",
       "  <thead>\n",
       "    <tr style=\"text-align: right;\">\n",
       "      <th></th>\n",
       "      <th>Enterococci Results</th>\n",
       "    </tr>\n",
       "  </thead>\n",
       "  <tbody>\n",
       "    <tr>\n",
       "      <th>0</th>\n",
       "      <td>9.846154</td>\n",
       "    </tr>\n",
       "    <tr>\n",
       "      <th>1</th>\n",
       "      <td>24.923077</td>\n",
       "    </tr>\n",
       "    <tr>\n",
       "      <th>2</th>\n",
       "      <td>4.000000</td>\n",
       "    </tr>\n",
       "    <tr>\n",
       "      <th>3</th>\n",
       "      <td>33.200000</td>\n",
       "    </tr>\n",
       "    <tr>\n",
       "      <th>4</th>\n",
       "      <td>4.800000</td>\n",
       "    </tr>\n",
       "  </tbody>\n",
       "</table>\n",
       "</div>"
      ],
      "text/plain": [
       "   Enterococci Results\n",
       "0             9.846154\n",
       "1            24.923077\n",
       "2             4.000000\n",
       "3            33.200000\n",
       "4             4.800000"
      ]
     },
     "execution_count": 28,
     "metadata": {},
     "output_type": "execute_result"
    }
   ],
   "source": [
    "enteroAvgLabels = pd.DataFrame({\"Enterococci Results\": enteroAvgData['Enterococci Results']})\n",
    "print(enteroAvgLabels.shape)\n",
    "enteroAvgLabels.head()"
   ]
  },
  {
   "cell_type": "code",
   "execution_count": 29,
   "metadata": {},
   "outputs": [
    {
     "name": "stdout",
     "output_type": "stream",
     "text": [
      "(114, 1)\n"
     ]
    },
    {
     "data": {
      "text/html": [
       "<div>\n",
       "<style scoped>\n",
       "    .dataframe tbody tr th:only-of-type {\n",
       "        vertical-align: middle;\n",
       "    }\n",
       "\n",
       "    .dataframe tbody tr th {\n",
       "        vertical-align: top;\n",
       "    }\n",
       "\n",
       "    .dataframe thead th {\n",
       "        text-align: right;\n",
       "    }\n",
       "</style>\n",
       "<table border=\"1\" class=\"dataframe\">\n",
       "  <thead>\n",
       "    <tr style=\"text-align: right;\">\n",
       "      <th></th>\n",
       "      <th>Enterococci Results</th>\n",
       "    </tr>\n",
       "  </thead>\n",
       "  <tbody>\n",
       "    <tr>\n",
       "      <th>17</th>\n",
       "      <td>52.000000</td>\n",
       "    </tr>\n",
       "    <tr>\n",
       "      <th>20</th>\n",
       "      <td>8.000000</td>\n",
       "    </tr>\n",
       "    <tr>\n",
       "      <th>21</th>\n",
       "      <td>16.615385</td>\n",
       "    </tr>\n",
       "    <tr>\n",
       "      <th>23</th>\n",
       "      <td>23.714286</td>\n",
       "    </tr>\n",
       "    <tr>\n",
       "      <th>39</th>\n",
       "      <td>6.857143</td>\n",
       "    </tr>\n",
       "  </tbody>\n",
       "</table>\n",
       "</div>"
      ],
      "text/plain": [
       "    Enterococci Results\n",
       "17            52.000000\n",
       "20             8.000000\n",
       "21            16.615385\n",
       "23            23.714286\n",
       "39             6.857143"
      ]
     },
     "execution_count": 29,
     "metadata": {},
     "output_type": "execute_result"
    }
   ],
   "source": [
    "wetAvgLabels = pd.DataFrame({\"Enterococci Results\": wetAvgData['Enterococci Results']})\n",
    "print(wetAvgLabels.shape)\n",
    "wetAvgLabels.head()"
   ]
  },
  {
   "cell_type": "code",
   "execution_count": 30,
   "metadata": {},
   "outputs": [],
   "source": [
    "# This is done to put the dataframe back into the format for the model\n",
    "labels = enteroData['Enterococci Results']\n",
    "wetLabels = wetData['Enterococci Results']\n",
    "\n",
    "avgLabels = enteroAvgData['Enterococci Results']\n",
    "wetAvgLabels = wetAvgData['Enterococci Results']"
   ]
  },
  {
   "attachments": {},
   "cell_type": "markdown",
   "metadata": {},
   "source": [
    "Defining Independent Variables/Predictors"
   ]
  },
  {
   "cell_type": "code",
   "execution_count": 31,
   "metadata": {},
   "outputs": [
    {
     "name": "stdout",
     "output_type": "stream",
     "text": [
      "(3560, 7)\n"
     ]
    },
    {
     "data": {
      "text/html": [
       "<div>\n",
       "<style scoped>\n",
       "    .dataframe tbody tr th:only-of-type {\n",
       "        vertical-align: middle;\n",
       "    }\n",
       "\n",
       "    .dataframe tbody tr th {\n",
       "        vertical-align: top;\n",
       "    }\n",
       "\n",
       "    .dataframe thead th {\n",
       "        text-align: right;\n",
       "    }\n",
       "</style>\n",
       "<table border=\"1\" class=\"dataframe\">\n",
       "  <thead>\n",
       "    <tr style=\"text-align: right;\">\n",
       "      <th></th>\n",
       "      <th>Year Population</th>\n",
       "      <th>Day Before Precipitation</th>\n",
       "      <th>Day of Precipitation</th>\n",
       "      <th>Water Temperature</th>\n",
       "      <th>Sum Precip</th>\n",
       "      <th>Month</th>\n",
       "      <th>Year</th>\n",
       "    </tr>\n",
       "  </thead>\n",
       "  <tbody>\n",
       "    <tr>\n",
       "      <th>0</th>\n",
       "      <td>7939571</td>\n",
       "      <td>0.0</td>\n",
       "      <td>0.0</td>\n",
       "      <td>15.23</td>\n",
       "      <td>0.0</td>\n",
       "      <td>6</td>\n",
       "      <td>2005</td>\n",
       "    </tr>\n",
       "    <tr>\n",
       "      <th>1</th>\n",
       "      <td>7939571</td>\n",
       "      <td>0.0</td>\n",
       "      <td>0.0</td>\n",
       "      <td>15.23</td>\n",
       "      <td>0.0</td>\n",
       "      <td>6</td>\n",
       "      <td>2005</td>\n",
       "    </tr>\n",
       "    <tr>\n",
       "      <th>2</th>\n",
       "      <td>7939571</td>\n",
       "      <td>0.0</td>\n",
       "      <td>0.0</td>\n",
       "      <td>15.23</td>\n",
       "      <td>0.0</td>\n",
       "      <td>6</td>\n",
       "      <td>2005</td>\n",
       "    </tr>\n",
       "    <tr>\n",
       "      <th>3</th>\n",
       "      <td>7939571</td>\n",
       "      <td>0.0</td>\n",
       "      <td>0.0</td>\n",
       "      <td>15.23</td>\n",
       "      <td>0.0</td>\n",
       "      <td>6</td>\n",
       "      <td>2005</td>\n",
       "    </tr>\n",
       "    <tr>\n",
       "      <th>4</th>\n",
       "      <td>7939571</td>\n",
       "      <td>0.0</td>\n",
       "      <td>0.0</td>\n",
       "      <td>17.89</td>\n",
       "      <td>0.0</td>\n",
       "      <td>6</td>\n",
       "      <td>2005</td>\n",
       "    </tr>\n",
       "  </tbody>\n",
       "</table>\n",
       "</div>"
      ],
      "text/plain": [
       "   Year Population  Day Before Precipitation  Day of Precipitation  \\\n",
       "0          7939571                       0.0                   0.0   \n",
       "1          7939571                       0.0                   0.0   \n",
       "2          7939571                       0.0                   0.0   \n",
       "3          7939571                       0.0                   0.0   \n",
       "4          7939571                       0.0                   0.0   \n",
       "\n",
       "   Water Temperature  Sum Precip  Month  Year  \n",
       "0              15.23         0.0      6  2005  \n",
       "1              15.23         0.0      6  2005  \n",
       "2              15.23         0.0      6  2005  \n",
       "3              15.23         0.0      6  2005  \n",
       "4              17.89         0.0      6  2005  "
      ]
     },
     "execution_count": 31,
     "metadata": {},
     "output_type": "execute_result"
    }
   ],
   "source": [
    "# Dropping dependent variable and Date\n",
    "features = enteroData.drop('Enterococci Results', axis=1)\n",
    "features = features.drop('Sample Date', axis=1)\n",
    "\n",
    "print(features.shape)\n",
    "features.head()"
   ]
  },
  {
   "cell_type": "code",
   "execution_count": 32,
   "metadata": {},
   "outputs": [
    {
     "name": "stdout",
     "output_type": "stream",
     "text": [
      "(1408, 7)\n"
     ]
    },
    {
     "data": {
      "text/html": [
       "<div>\n",
       "<style scoped>\n",
       "    .dataframe tbody tr th:only-of-type {\n",
       "        vertical-align: middle;\n",
       "    }\n",
       "\n",
       "    .dataframe tbody tr th {\n",
       "        vertical-align: top;\n",
       "    }\n",
       "\n",
       "    .dataframe thead th {\n",
       "        text-align: right;\n",
       "    }\n",
       "</style>\n",
       "<table border=\"1\" class=\"dataframe\">\n",
       "  <thead>\n",
       "    <tr style=\"text-align: right;\">\n",
       "      <th></th>\n",
       "      <th>Year Population</th>\n",
       "      <th>Day Before Precipitation</th>\n",
       "      <th>Day of Precipitation</th>\n",
       "      <th>Water Temperature</th>\n",
       "      <th>Sum Precip</th>\n",
       "      <th>Month</th>\n",
       "      <th>Year</th>\n",
       "    </tr>\n",
       "  </thead>\n",
       "  <tbody>\n",
       "    <tr>\n",
       "      <th>54</th>\n",
       "      <td>7904335</td>\n",
       "      <td>0.20</td>\n",
       "      <td>0.00</td>\n",
       "      <td>15.92</td>\n",
       "      <td>0.20</td>\n",
       "      <td>5</td>\n",
       "      <td>2006</td>\n",
       "    </tr>\n",
       "    <tr>\n",
       "      <th>55</th>\n",
       "      <td>7904335</td>\n",
       "      <td>0.20</td>\n",
       "      <td>0.00</td>\n",
       "      <td>15.92</td>\n",
       "      <td>0.20</td>\n",
       "      <td>5</td>\n",
       "      <td>2006</td>\n",
       "    </tr>\n",
       "    <tr>\n",
       "      <th>56</th>\n",
       "      <td>7904335</td>\n",
       "      <td>0.20</td>\n",
       "      <td>0.00</td>\n",
       "      <td>15.92</td>\n",
       "      <td>0.20</td>\n",
       "      <td>5</td>\n",
       "      <td>2006</td>\n",
       "    </tr>\n",
       "    <tr>\n",
       "      <th>69</th>\n",
       "      <td>7904335</td>\n",
       "      <td>0.06</td>\n",
       "      <td>0.05</td>\n",
       "      <td>19.44</td>\n",
       "      <td>0.11</td>\n",
       "      <td>6</td>\n",
       "      <td>2006</td>\n",
       "    </tr>\n",
       "    <tr>\n",
       "      <th>70</th>\n",
       "      <td>7904335</td>\n",
       "      <td>0.06</td>\n",
       "      <td>0.05</td>\n",
       "      <td>19.44</td>\n",
       "      <td>0.11</td>\n",
       "      <td>6</td>\n",
       "      <td>2006</td>\n",
       "    </tr>\n",
       "  </tbody>\n",
       "</table>\n",
       "</div>"
      ],
      "text/plain": [
       "    Year Population  Day Before Precipitation  Day of Precipitation  \\\n",
       "54          7904335                      0.20                  0.00   \n",
       "55          7904335                      0.20                  0.00   \n",
       "56          7904335                      0.20                  0.00   \n",
       "69          7904335                      0.06                  0.05   \n",
       "70          7904335                      0.06                  0.05   \n",
       "\n",
       "    Water Temperature  Sum Precip  Month  Year  \n",
       "54              15.92        0.20      5  2006  \n",
       "55              15.92        0.20      5  2006  \n",
       "56              15.92        0.20      5  2006  \n",
       "69              19.44        0.11      6  2006  \n",
       "70              19.44        0.11      6  2006  "
      ]
     },
     "execution_count": 32,
     "metadata": {},
     "output_type": "execute_result"
    }
   ],
   "source": [
    "wetFeatures = wetData.drop('Enterococci Results', axis=1)\n",
    "wetFeatures = wetFeatures.drop('Sample Date', axis=1)\n",
    "\n",
    "print(wetFeatures.shape)\n",
    "wetFeatures.head()"
   ]
  },
  {
   "cell_type": "code",
   "execution_count": 33,
   "metadata": {},
   "outputs": [
    {
     "name": "stdout",
     "output_type": "stream",
     "text": [
      "(325, 7)\n"
     ]
    },
    {
     "data": {
      "text/html": [
       "<div>\n",
       "<style scoped>\n",
       "    .dataframe tbody tr th:only-of-type {\n",
       "        vertical-align: middle;\n",
       "    }\n",
       "\n",
       "    .dataframe tbody tr th {\n",
       "        vertical-align: top;\n",
       "    }\n",
       "\n",
       "    .dataframe thead th {\n",
       "        text-align: right;\n",
       "    }\n",
       "</style>\n",
       "<table border=\"1\" class=\"dataframe\">\n",
       "  <thead>\n",
       "    <tr style=\"text-align: right;\">\n",
       "      <th></th>\n",
       "      <th>Year Population</th>\n",
       "      <th>Day Before Precipitation</th>\n",
       "      <th>Day of Precipitation</th>\n",
       "      <th>Water Temperature</th>\n",
       "      <th>Sum Precip</th>\n",
       "      <th>Month</th>\n",
       "      <th>Year</th>\n",
       "    </tr>\n",
       "  </thead>\n",
       "  <tbody>\n",
       "    <tr>\n",
       "      <th>0</th>\n",
       "      <td>7939571</td>\n",
       "      <td>0.0</td>\n",
       "      <td>0.00</td>\n",
       "      <td>15.23</td>\n",
       "      <td>0.00</td>\n",
       "      <td>6</td>\n",
       "      <td>2005</td>\n",
       "    </tr>\n",
       "    <tr>\n",
       "      <th>1</th>\n",
       "      <td>7939571</td>\n",
       "      <td>0.0</td>\n",
       "      <td>0.00</td>\n",
       "      <td>17.89</td>\n",
       "      <td>0.00</td>\n",
       "      <td>6</td>\n",
       "      <td>2005</td>\n",
       "    </tr>\n",
       "    <tr>\n",
       "      <th>2</th>\n",
       "      <td>7939571</td>\n",
       "      <td>0.0</td>\n",
       "      <td>0.00</td>\n",
       "      <td>19.17</td>\n",
       "      <td>0.00</td>\n",
       "      <td>6</td>\n",
       "      <td>2005</td>\n",
       "    </tr>\n",
       "    <tr>\n",
       "      <th>3</th>\n",
       "      <td>7939571</td>\n",
       "      <td>0.0</td>\n",
       "      <td>0.00</td>\n",
       "      <td>18.56</td>\n",
       "      <td>0.00</td>\n",
       "      <td>6</td>\n",
       "      <td>2005</td>\n",
       "    </tr>\n",
       "    <tr>\n",
       "      <th>4</th>\n",
       "      <td>7939571</td>\n",
       "      <td>0.0</td>\n",
       "      <td>0.04</td>\n",
       "      <td>21.23</td>\n",
       "      <td>0.04</td>\n",
       "      <td>7</td>\n",
       "      <td>2005</td>\n",
       "    </tr>\n",
       "  </tbody>\n",
       "</table>\n",
       "</div>"
      ],
      "text/plain": [
       "   Year Population  Day Before Precipitation  Day of Precipitation  \\\n",
       "0          7939571                       0.0                  0.00   \n",
       "1          7939571                       0.0                  0.00   \n",
       "2          7939571                       0.0                  0.00   \n",
       "3          7939571                       0.0                  0.00   \n",
       "4          7939571                       0.0                  0.04   \n",
       "\n",
       "   Water Temperature  Sum Precip  Month  Year  \n",
       "0              15.23        0.00      6  2005  \n",
       "1              17.89        0.00      6  2005  \n",
       "2              19.17        0.00      6  2005  \n",
       "3              18.56        0.00      6  2005  \n",
       "4              21.23        0.04      7  2005  "
      ]
     },
     "execution_count": 33,
     "metadata": {},
     "output_type": "execute_result"
    }
   ],
   "source": [
    "avgFeatures = enteroAvgData.drop('Enterococci Results', axis=1)\n",
    "avgFeatures = avgFeatures.drop('Sample Date', axis=1)\n",
    "\n",
    "print(avgFeatures.shape)\n",
    "avgFeatures.head()"
   ]
  },
  {
   "cell_type": "code",
   "execution_count": 34,
   "metadata": {},
   "outputs": [
    {
     "name": "stdout",
     "output_type": "stream",
     "text": [
      "(114, 7)\n"
     ]
    },
    {
     "data": {
      "text/html": [
       "<div>\n",
       "<style scoped>\n",
       "    .dataframe tbody tr th:only-of-type {\n",
       "        vertical-align: middle;\n",
       "    }\n",
       "\n",
       "    .dataframe tbody tr th {\n",
       "        vertical-align: top;\n",
       "    }\n",
       "\n",
       "    .dataframe thead th {\n",
       "        text-align: right;\n",
       "    }\n",
       "</style>\n",
       "<table border=\"1\" class=\"dataframe\">\n",
       "  <thead>\n",
       "    <tr style=\"text-align: right;\">\n",
       "      <th></th>\n",
       "      <th>Year Population</th>\n",
       "      <th>Day Before Precipitation</th>\n",
       "      <th>Day of Precipitation</th>\n",
       "      <th>Water Temperature</th>\n",
       "      <th>Sum Precip</th>\n",
       "      <th>Month</th>\n",
       "      <th>Year</th>\n",
       "    </tr>\n",
       "  </thead>\n",
       "  <tbody>\n",
       "    <tr>\n",
       "      <th>17</th>\n",
       "      <td>7904335</td>\n",
       "      <td>0.20</td>\n",
       "      <td>0.00</td>\n",
       "      <td>15.92</td>\n",
       "      <td>0.20</td>\n",
       "      <td>5</td>\n",
       "      <td>2006</td>\n",
       "    </tr>\n",
       "    <tr>\n",
       "      <th>20</th>\n",
       "      <td>7904335</td>\n",
       "      <td>0.06</td>\n",
       "      <td>0.05</td>\n",
       "      <td>19.44</td>\n",
       "      <td>0.11</td>\n",
       "      <td>6</td>\n",
       "      <td>2006</td>\n",
       "    </tr>\n",
       "    <tr>\n",
       "      <th>21</th>\n",
       "      <td>7904335</td>\n",
       "      <td>0.00</td>\n",
       "      <td>1.06</td>\n",
       "      <td>19.92</td>\n",
       "      <td>1.06</td>\n",
       "      <td>7</td>\n",
       "      <td>2006</td>\n",
       "    </tr>\n",
       "    <tr>\n",
       "      <th>23</th>\n",
       "      <td>7904335</td>\n",
       "      <td>0.00</td>\n",
       "      <td>0.44</td>\n",
       "      <td>22.11</td>\n",
       "      <td>0.44</td>\n",
       "      <td>7</td>\n",
       "      <td>2006</td>\n",
       "    </tr>\n",
       "    <tr>\n",
       "      <th>39</th>\n",
       "      <td>7908735</td>\n",
       "      <td>0.00</td>\n",
       "      <td>0.06</td>\n",
       "      <td>20.72</td>\n",
       "      <td>0.06</td>\n",
       "      <td>6</td>\n",
       "      <td>2007</td>\n",
       "    </tr>\n",
       "  </tbody>\n",
       "</table>\n",
       "</div>"
      ],
      "text/plain": [
       "    Year Population  Day Before Precipitation  Day of Precipitation  \\\n",
       "17          7904335                      0.20                  0.00   \n",
       "20          7904335                      0.06                  0.05   \n",
       "21          7904335                      0.00                  1.06   \n",
       "23          7904335                      0.00                  0.44   \n",
       "39          7908735                      0.00                  0.06   \n",
       "\n",
       "    Water Temperature  Sum Precip  Month  Year  \n",
       "17              15.92        0.20      5  2006  \n",
       "20              19.44        0.11      6  2006  \n",
       "21              19.92        1.06      7  2006  \n",
       "23              22.11        0.44      7  2006  \n",
       "39              20.72        0.06      6  2007  "
      ]
     },
     "execution_count": 34,
     "metadata": {},
     "output_type": "execute_result"
    }
   ],
   "source": [
    "wetAvgFeatures = wetAvgData.drop('Enterococci Results', axis=1)\n",
    "wetAvgFeatures = wetAvgFeatures.drop('Sample Date', axis=1)\n",
    "\n",
    "print(wetAvgFeatures.shape)\n",
    "wetAvgFeatures.head()"
   ]
  },
  {
   "cell_type": "markdown",
   "metadata": {},
   "source": [
    "### Making Data into NumPy Arrays"
   ]
  },
  {
   "cell_type": "code",
   "execution_count": 35,
   "metadata": {},
   "outputs": [],
   "source": [
    "features = np.array(features)\n",
    "wetFeatures = np.array(wetFeatures)\n",
    "avgFeatures = np.array(avgFeatures)\n",
    "wetAvgFeatures = np.array(wetAvgFeatures)\n",
    "\n",
    "labels = np.array(labels)\n",
    "wetLabels = np.array(wetLabels)\n",
    "avgLabels = np.array(avgLabels)\n",
    "wetAvgFeatures = np.array(wetAvgFeatures)"
   ]
  },
  {
   "cell_type": "markdown",
   "metadata": {},
   "source": [
    "### We will now split our dataset into training data and testing data"
   ]
  },
  {
   "cell_type": "code",
   "execution_count": 36,
   "metadata": {},
   "outputs": [
    {
     "name": "stdout",
     "output_type": "stream",
     "text": [
      "(2848, 7)\n",
      "(712, 7)\n",
      "(2848,)\n",
      "(712,)\n"
     ]
    }
   ],
   "source": [
    "# As mentioned in article, we want our results to be reproducible, so we use a random_state = 21\n",
    "trainFeatures, testFeatures, trainLabels, testLabels = train_test_split(features, labels, test_size = 0.2, random_state = 21)\n",
    "\n",
    "print(trainFeatures.shape)\n",
    "print(testFeatures.shape)\n",
    "print(trainLabels.shape)\n",
    "print(testLabels.shape)"
   ]
  },
  {
   "attachments": {},
   "cell_type": "markdown",
   "metadata": {},
   "source": [
    "## Creating the model"
   ]
  },
  {
   "attachments": {},
   "cell_type": "markdown",
   "metadata": {},
   "source": [
    "### Gradient Boosting Tree"
   ]
  },
  {
   "attachments": {},
   "cell_type": "markdown",
   "metadata": {},
   "source": [
    "We will first use base parameters to see the performance of the random forest under these conditions"
   ]
  },
  {
   "cell_type": "code",
   "execution_count": 52,
   "metadata": {},
   "outputs": [
    {
     "data": {
      "text/plain": [
       "GradientBoostingRegressor(ccp_alpha=0, max_depth=10, min_samples_split=5,\n",
       "                          n_estimators=1000)"
      ]
     },
     "execution_count": 52,
     "metadata": {},
     "output_type": "execute_result"
    }
   ],
   "source": [
    "params_gbt = {'n_estimators':1000,\n",
    "              'criterion':'friedman_mse', \n",
    "              'loss': 'squared_error',\n",
    "              'ccp_alpha': 0,\n",
    "              'max_depth': 10,\n",
    "              'min_samples_leaf':1,\n",
    "              'min_samples_split':5,\n",
    "              'max_features':None}\n",
    "\n",
    "gbt = GradientBoostingRegressor(**params_gbt)\n",
    "\n",
    "gbt.fit(trainFeatures,trainLabels)"
   ]
  },
  {
   "attachments": {},
   "cell_type": "markdown",
   "metadata": {},
   "source": [
    "Making Predictions"
   ]
  },
  {
   "cell_type": "code",
   "execution_count": 53,
   "metadata": {},
   "outputs": [
    {
     "data": {
      "text/plain": [
       "(0.7231566518175372, 6.540134595263089e-47)"
      ]
     },
     "execution_count": 53,
     "metadata": {},
     "output_type": "execute_result"
    },
    {
     "data": {
      "image/png": "[encoded data removed]",
      "text/plain": [
       "<Figure size 500x500 with 1 Axes>"
      ]
     },
     "metadata": {},
     "output_type": "display_data"
    }
   ],
   "source": [
    "enteroPredictions = gbt.predict(testFeatures)\n",
    "comp = pd.DataFrame({'True': testLabels, 'Predictions':enteroPredictions})\n",
    "\n",
    "sns.lmplot(x = 'True', y='Predictions', data=comp)\n",
    "stats.pearsonr(comp['True'], comp['Predictions'])"
   ]
  },
  {
   "cell_type": "code",
   "execution_count": 58,
   "metadata": {},
   "outputs": [
    {
     "name": "stdout",
     "output_type": "stream",
     "text": [
      "Mean Squared Error: 77155.11 cells/100mL.\n",
      "Mean Absolute Error: 108.62 cells/100mL.\n"
     ]
    }
   ],
   "source": [
    "print('Mean Squared Error:', round(mean_squared_error(testLabels, enteroPredictions), 2), 'cells/100mL.')\n",
    "print('Mean Absolute Error:', round(mean_absolute_error(testLabels, enteroPredictions), 2), 'cells/100mL.')"
   ]
  },
  {
   "attachments": {},
   "cell_type": "markdown",
   "metadata": {},
   "source": [
    "We can then look to find optimal hyperparameters by doing the following:"
   ]
  },
  {
   "cell_type": "code",
   "execution_count": 40,
   "metadata": {},
   "outputs": [
    {
     "name": "stdout",
     "output_type": "stream",
     "text": [
      "The best hyperparameters: \n",
      " {'ccp_alpha': 0.004872488080912729, 'criterion': 'friedman_mse', 'loss': 'squared_error', 'max_depth': 775, 'max_features': 0.31622611805317286, 'min_samples_leaf': 0.020786508708058947, 'min_samples_split': 0.11275545986845206, 'n_estimators': 515}\n"
     ]
    }
   ],
   "source": [
    "# Using methods from class\n",
    "grid = {'n_estimators': [int(x) for x in np.linspace(start=100, stop=4000, num=20)],\n",
    "        'criterion': ['friedman_mse', 'squared_error'],\n",
    "        'loss': ['squared_error', 'absolute_error'],\n",
    "        'max_features': [int(x) for x in np.linspace(start= 0, stop=2000, num=4)],\n",
    "        'max_depth': [int(x) for x in np.linspace(start= 4, stop=1500, num=2)],\n",
    "        'min_samples_split': uniform(0.01, 0.499),\n",
    "        'min_samples_leaf': uniform(0.01, 0.499),\n",
    "        'ccp_alpha': uniform(0.000, 0.100)}\n",
    "\n",
    "gbt2 = GradientBoostingRegressor(random_state=21)\n",
    "gbt_random = RandomizedSearchCV(estimator = gbt2, param_distributions = random_grid, \n",
    "                                n_iter = 50, cv = 15, random_state = 21)\n",
    "gbt_entero = gbt_random.fit(trainFeatures,trainLabels)\n",
    "print(\"The best hyperparameters: \\n\",gbt_entero.best_params_)"
   ]
  },
  {
   "cell_type": "code",
   "execution_count": 41,
   "metadata": {},
   "outputs": [
    {
     "data": {
      "text/plain": [
       "(0.6284964996338145, 1.5779141441162134e-79)"
      ]
     },
     "execution_count": 41,
     "metadata": {},
     "output_type": "execute_result"
    },
    {
     "data": {
      "image/png": "[encoded data removed]",
      "text/plain": [
       "<Figure size 500x500 with 1 Axes>"
      ]
     },
     "metadata": {},
     "output_type": "display_data"
    }
   ],
   "source": [
    "enteroPredictions = gbt_entero.predict(testFeatures)\n",
    "comp = pd.DataFrame({'True': testLabels, 'Predictions':enteroPredictions})\n",
    "\n",
    "sns.lmplot(x = 'True', y='Predictions', data=comp)\n",
    "\n",
    "stats.pearsonr(comp['True'], comp['Predictions'])"
   ]
  },
  {
   "cell_type": "code",
   "execution_count": 42,
   "metadata": {},
   "outputs": [
    {
     "name": "stdout",
     "output_type": "stream",
     "text": [
      "Mean Squared Error: 73726.07 cells/100mL.\n",
      "Mean Absolute Error: 74.62 cells/100mL.\n"
     ]
    }
   ],
   "source": [
    "print('Mean Squared Error:', round(mean_squared_error(testLabels, enteroPredictions), 2), 'cells/100mL.')\n",
    "print('Mean Absolute Error:', round(mean_absolute_error(testLabels, enteroPredictions), 2), 'cells/100mL.')')"
   ]
  },
  {
   "attachments": {},
   "cell_type": "markdown",
   "metadata": {},
   "source": [
    "### Now an analysis will be done on whether or not the model can improve at higher values, if values below the CSO threshold are omitted"
   ]
  },
  {
   "cell_type": "code",
   "execution_count": 43,
   "metadata": {},
   "outputs": [],
   "source": [
    "# As mentioned in article, we want our results to be reproducible, so we use a random_state = 21\n",
    "trainFeatures, testFeatures, trainLabels, testLabels = train_test_split(wetFeatures, wetLabels, test_size = 0.2, random_state = 21)"
   ]
  },
  {
   "cell_type": "code",
   "execution_count": 44,
   "metadata": {},
   "outputs": [
    {
     "data": {
      "text/plain": [
       "GradientBoostingRegressor(ccp_alpha=0, max_depth=10, min_samples_split=5,\n",
       "                          n_estimators=1000)"
      ]
     },
     "execution_count": 44,
     "metadata": {},
     "output_type": "execute_result"
    }
   ],
   "source": [
    "wetGbt = GradientBoostingRegressor(**params_gbt)\n",
    "\n",
    "wetGbt.fit(trainFeatures,trainLabels)"
   ]
  },
  {
   "cell_type": "code",
   "execution_count": 45,
   "metadata": {},
   "outputs": [
    {
     "data": {
      "text/plain": [
       "(0.7231566518175372, 6.540134595263089e-47)"
      ]
     },
     "execution_count": 45,
     "metadata": {},
     "output_type": "execute_result"
    },
    {
     "data": {
      "image/png": "[encoded data removed]",
      "text/plain": [
       "<Figure size 500x500 with 1 Axes>"
      ]
     },
     "metadata": {},
     "output_type": "display_data"
    }
   ],
   "source": [
    "enteroPredictions = wetGbt.predict(testFeatures)\n",
    "comp = pd.DataFrame({'True': testLabels, 'Predictions':enteroPredictions})\n",
    "\n",
    "sns.lmplot(x = 'True', y='Predictions', data=comp)\n",
    "stats.pearsonr(comp['True'], comp['Predictions'])"
   ]
  },
  {
   "cell_type": "code",
   "execution_count": 46,
   "metadata": {},
   "outputs": [
    {
     "name": "stdout",
     "output_type": "stream",
     "text": [
      "Mean Squared Error: 77155.11 cells/100mL.\n",
      "Mean Absolute Error: 108.62 cells/100mL.\n"
     ]
    }
   ],
   "source": [
    "print('Mean Squared Error:', round(mean_squared_error(testLabels, enteroPredictions), 2), 'cells/100mL.')\n",
    "print('Mean Absolute Error:', round(mean_absolute_error(testLabels, enteroPredictions), 2), 'cells/100mL.')"
   ]
  },
  {
   "cell_type": "code",
   "execution_count": 47,
   "metadata": {},
   "outputs": [
    {
     "name": "stdout",
     "output_type": "stream",
     "text": [
      "The best hyperparameters: \n",
      " {'ccp_alpha': 0.028043348514446842, 'criterion': 'friedman_mse', 'loss': 'squared_error', 'max_depth': 355, 'max_features': 0.294436670577593, 'min_samples_leaf': 0.07737880079852824, 'min_samples_split': 0.3275014663673953, 'n_estimators': 885}\n"
     ]
    }
   ],
   "source": [
    "# Using methods from class\n",
    "random_grid = {'n_estimators': randint(4, 2000),\n",
    "               'criterion': ['friedman_mse'],\n",
    "               'loss': ['squared_error', 'absolute_error'],\n",
    "               'max_features': truncnorm(a=0, b=1, loc=0.25, scale=0.1),\n",
    "               'max_depth': randint(3, 1000),\n",
    "               'min_samples_split': uniform(0.01, 0.499),\n",
    "               'min_samples_leaf': uniform(0.01, 0.499),\n",
    "               'ccp_alpha': uniform(0.000, 0.100)}\n",
    "\n",
    "gbt3 = GradientBoostingRegressor(random_state=21)\n",
    "gbt_random = RandomizedSearchCV(estimator = gbt3, param_distributions = random_grid, \n",
    "                                n_iter = 50, cv = 15, random_state = 21)\n",
    "wetGbt_entero = gbt_random.fit(trainFeatures,trainLabels)\n",
    "print(\"The best hyperparameters: \\n\",wetGbt_entero.best_params_)"
   ]
  },
  {
   "cell_type": "code",
   "execution_count": 48,
   "metadata": {},
   "outputs": [
    {
     "data": {
      "text/plain": [
       "(0.7191236174971941, 3.588141415195608e-46)"
      ]
     },
     "execution_count": 48,
     "metadata": {},
     "output_type": "execute_result"
    },
    {
     "data": {
      "image/png": "[encoded data removed]",
      "text/plain": [
       "<Figure size 500x500 with 1 Axes>"
      ]
     },
     "metadata": {},
     "output_type": "display_data"
    }
   ],
   "source": [
    "enteroPredictions = wetGbt_entero.predict(testFeatures)\n",
    "comp = pd.DataFrame({'True': testLabels, 'Predictions':enteroPredictions})\n",
    "\n",
    "sns.lmplot(x = 'True', y='Predictions', data=comp)\n",
    "stats.pearsonr(comp['True'], comp['Predictions'])"
   ]
  },
  {
   "cell_type": "code",
   "execution_count": 49,
   "metadata": {},
   "outputs": [
    {
     "name": "stdout",
     "output_type": "stream",
     "text": [
      "Mean Squared Error: 77360.72 cells/100mL.\n",
      "Mean Absolute Error: 114.11 cells/100mL.\n"
     ]
    }
   ],
   "source": [
    "print('Mean Squared Error:', round(mean_squared_error(testLabels, enteroPredictions), 2), 'cells/100mL.')\n",
    "print('Mean Absolute Error:', round(mean_absolute_error(testLabels, enteroPredictions), 2), 'cells/100mL.')"
   ]
  },
  {
   "attachments": {},
   "cell_type": "markdown",
   "metadata": {},
   "source": [
    "### Applying Original GBT to the wet data"
   ]
  },
  {
   "cell_type": "code",
   "execution_count": 50,
   "metadata": {},
   "outputs": [
    {
     "data": {
      "text/plain": [
       "(0.7854136784159336, 2.8161027987760457e-60)"
      ]
     },
     "execution_count": 50,
     "metadata": {},
     "output_type": "execute_result"
    },
    {
     "data": {
      "image/png": "[encoded data removed]",
      "text/plain": [
       "<Figure size 500x500 with 1 Axes>"
      ]
     },
     "metadata": {},
     "output_type": "display_data"
    }
   ],
   "source": [
    "enteroPredictions = gbt_entero.predict(testFeatures)\n",
    "comp = pd.DataFrame({'True': testLabels, 'Predictions':enteroPredictions})\n",
    "\n",
    "sns.lmplot(x = 'True', y='Predictions', data=comp)\n",
    "stats.pearsonr(comp['True'], comp['Predictions'])"
   ]
  },
  {
   "cell_type": "code",
   "execution_count": 51,
   "metadata": {},
   "outputs": [
    {
     "name": "stdout",
     "output_type": "stream",
     "text": [
      "Mean Squared Error: 60212.33 cells/100mL.\n",
      "Mean Absolute Error: 97.95 cells/100mL.\n"
     ]
    }
   ],
   "source": [
    "print('Mean Squared Error:', round(mean_squared_error(testLabels, enteroPredictions), 2), 'cells/100mL.')\n",
    "print('Mean Absolute Error:', round(mean_absolute_error(testLabels, enteroPredictions), 2), 'cells/100mL.')"
   ]
  }
 ],
 "metadata": {
  "kernelspec": {
   "display_name": "keras",
   "language": "python",
   "name": "python3"
  },
  "language_info": {
   "codemirror_mode": {
    "name": "ipython",
    "version": 3
   },
   "file_extension": ".py",
   "mimetype": "text/x-python",
   "name": "python",
   "nbconvert_exporter": "python",
   "pygments_lexer": "ipython3",
   "version": "3.8.15"
  },
  "orig_nbformat": 4,
  "vscode": {
   "interpreter": {
    "hash": "87af9d5c75b1ff974e15e69241cf7375683193cec284293cd55bf1815724a00c"
   }
  }
 },
 "nbformat": 4,
 "nbformat_minor": 2
}
